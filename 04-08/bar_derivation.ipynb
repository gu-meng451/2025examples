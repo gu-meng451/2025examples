{
 "cells": [
  {
   "cell_type": "code",
   "execution_count": 1,
   "metadata": {},
   "outputs": [
    {
     "name": "stderr",
     "output_type": "stream",
     "text": [
      "\u001b[32m\u001b[1m  Activating\u001b[22m\u001b[39m project at `~/Documents/2025examples/04-08`\n"
     ]
    }
   ],
   "source": [
    "using Pkg\n",
    "Pkg.activate(\".\")\n",
    "using SymPy"
   ]
  },
  {
   "cell_type": "code",
   "execution_count": 4,
   "metadata": {},
   "outputs": [
    {
     "data": {
      "text/latex": [
       "$f_{0}$"
      ],
      "text/plain": [
       "f₀"
      ]
     },
     "metadata": {},
     "output_type": "display_data"
    }
   ],
   "source": [
    "E, A, f0, L, x = symbols(\"E A f0 L x\", real=true)\n",
    "c1, c2 = symbols(\"c1 c2\", real=true)\n",
    "f = f0"
   ]
  },
  {
   "cell_type": "code",
   "execution_count": 8,
   "metadata": {},
   "outputs": [
    {
     "data": {
      "text/latex": [
       "$c_{1} x + c_{2} - \\frac{f_{0} x^{2}}{2 A E}$"
      ],
      "text/plain": [
       "                2\n",
       "            f₀⋅x \n",
       "c₁⋅x + c₂ - ─────\n",
       "            2⋅A⋅E"
      ]
     },
     "metadata": {},
     "output_type": "display_data"
    }
   ],
   "source": [
    "u_general = 1/E/A*integrate(integrate(-f,x), x) + c1*x + c2"
   ]
  },
  {
   "cell_type": "code",
   "execution_count": 18,
   "metadata": {},
   "outputs": [
    {
     "data": {
      "text/latex": [
       "\\begin{equation*}\\begin{cases}c_{2} & \\text{=>} &0\\\\\\end{cases}\\end{equation*}"
      ],
      "text/plain": [
       "Dict{Sym{PyCall.PyObject}, Sym{PyCall.PyObject}} with 1 entry:\n",
       "  c2 => 0"
      ]
     },
     "metadata": {},
     "output_type": "display_data"
    }
   ],
   "source": [
    "sol2 = solve(u_general(x=>0) - 0, c2, dict=true)[1]"
   ]
  },
  {
   "cell_type": "code",
   "execution_count": 19,
   "metadata": {},
   "outputs": [
    {
     "data": {
      "text/latex": [
       "\\begin{equation*}\\begin{cases}c_{1} & \\text{=>} &\\frac{L f_{0}}{A E}\\\\\\end{cases}\\end{equation*}"
      ],
      "text/plain": [
       "Dict{Sym{PyCall.PyObject}, Sym{PyCall.PyObject}} with 1 entry:\n",
       "  c1 => L*f0/(A*E)"
      ]
     },
     "metadata": {},
     "output_type": "display_data"
    }
   ],
   "source": [
    "sol1 = solve(diff(u_general,x)(x=>L) - 0, c1, dict=true)[1]"
   ]
  },
  {
   "cell_type": "code",
   "execution_count": 21,
   "metadata": {},
   "outputs": [
    {
     "data": {
      "text/latex": [
       "$\\frac{f_{0} x \\left(2 L - x\\right)}{2 A E}$"
      ],
      "text/plain": [
       "f₀⋅x⋅(2⋅L - x)\n",
       "──────────────\n",
       "    2⋅A⋅E     "
      ]
     },
     "metadata": {},
     "output_type": "display_data"
    }
   ],
   "source": [
    "u = u_general(sol1)(sol2) |> simplify"
   ]
  },
  {
   "cell_type": "code",
   "execution_count": 24,
   "metadata": {},
   "outputs": [
    {
     "data": {
      "text/latex": [
       "$\\frac{f_{0} \\left(L - x\\right)}{A}$"
      ],
      "text/plain": [
       "f₀⋅(L - x)\n",
       "──────────\n",
       "    A     "
      ]
     },
     "metadata": {},
     "output_type": "display_data"
    }
   ],
   "source": [
    "σ = E*diff(u,x) |> simplify"
   ]
  },
  {
   "cell_type": "code",
   "execution_count": null,
   "metadata": {},
   "outputs": [],
   "source": []
  }
 ],
 "metadata": {
  "kernelspec": {
   "display_name": "Julia 1.11.4",
   "language": "julia",
   "name": "julia-1.11"
  },
  "language_info": {
   "file_extension": ".jl",
   "mimetype": "application/julia",
   "name": "julia",
   "version": "1.11.4"
  }
 },
 "nbformat": 4,
 "nbformat_minor": 2
}
