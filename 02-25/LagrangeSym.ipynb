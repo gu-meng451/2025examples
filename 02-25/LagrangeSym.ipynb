{
 "cells": [
  {
   "cell_type": "markdown",
   "metadata": {},
   "source": [
    "# Building Interpolating Polynomials"
   ]
  },
  {
   "cell_type": "code",
   "execution_count": 2,
   "metadata": {},
   "outputs": [
    {
     "name": "stderr",
     "output_type": "stream",
     "text": [
      "\u001b[32m\u001b[1m  Activating\u001b[22m\u001b[39m project at `c:\\Users\\tim\\Documents\\2025examples\\02-25`\n"
     ]
    }
   ],
   "source": [
    "using Pkg\n",
    "Pkg.activate(\".\")\n",
    "using SymPy"
   ]
  },
  {
   "cell_type": "code",
   "execution_count": 3,
   "metadata": {},
   "outputs": [],
   "source": [
    "a0,a1,a2,a3,a4 = symbols(\"a_0, a_1, a_2, a_3, a_4\", real=true)\n",
    "x1, x2, x3, x4, x5 = symbols(\"x1, x2, x3, x4, x5\", real=true)\n",
    "y1, y2, y3, y4, y5 = symbols(\"y1, y2, y3, y4, y5\", real=true)\n",
    "x,y = symbols(\"x,y\", real=true)\n",
    "X = [x1, x2, x3, x4, x5]\n",
    "Y = [y1, y2, y3, y4, y5]\n",
    "A = [a0, a1, a2, a3, a4];"
   ]
  },
  {
   "cell_type": "markdown",
   "metadata": {},
   "source": [
    "## Naive construction\n",
    "### $n = 2$"
   ]
  },
  {
   "cell_type": "code",
   "execution_count": 3,
   "metadata": {},
   "outputs": [
    {
     "data": {
      "text/latex": [
       "$a_{0} + a_{1} x$"
      ],
      "text/plain": [
       "a_0 + a_1*x"
      ]
     },
     "metadata": {},
     "output_type": "display_data"
    }
   ],
   "source": [
    "n = 2\n",
    "y = a0 + a1*x"
   ]
  },
  {
   "cell_type": "code",
   "execution_count": 4,
   "metadata": {},
   "outputs": [
    {
     "data": {
      "text/latex": [
       "\\begin{equation*}\\begin{cases}a_{0} & \\text{=>} &\\frac{x_{1} y_{2} - x_{2} y_{1}}{x_{1} - x_{2}}\\\\a_{1} & \\text{=>} &\\frac{y_{1} - y_{2}}{x_{1} - x_{2}}\\\\\\end{cases}\\end{equation*}"
      ],
      "text/plain": [
       "Dict{Sym{PyCall.PyObject}, Sym{PyCall.PyObject}} with 2 entries:\n",
       "  a_0 => (x1*y2 - x2*y1)/(x1 - x2)\n",
       "  a_1 => (y1 - y2)/(x1 - x2)"
      ]
     },
     "metadata": {},
     "output_type": "display_data"
    }
   ],
   "source": [
    "sol = solve( [ -y1 + y(x=>x1), -y2 + y(x=>x2) ], \n",
    "[a0,a1] )"
   ]
  },
  {
   "cell_type": "code",
   "execution_count": 5,
   "metadata": {},
   "outputs": [
    {
     "data": {
      "text/latex": [
       "$\\frac{x \\left(y_{1} - y_{2}\\right)}{x_{1} - x_{2}} + \\frac{x_{1} y_{2} - x_{2} y_{1}}{x_{1} - x_{2}}$"
      ],
      "text/plain": [
       "x*(y1 - y2)   x1*y2 - x2*y1\n",
       "----------- + -------------\n",
       "  x1 - x2        x1 - x2   "
      ]
     },
     "metadata": {},
     "output_type": "display_data"
    }
   ],
   "source": [
    "y(sol)"
   ]
  },
  {
   "cell_type": "markdown",
   "metadata": {},
   "source": [
    "### $ n = 3 $ and onward"
   ]
  },
  {
   "cell_type": "code",
   "execution_count": 6,
   "metadata": {},
   "outputs": [
    {
     "data": {
      "text/latex": [
       "$a_{0} + a_{1} x + a_{2} x^{2}$"
      ],
      "text/plain": [
       "                   2\n",
       "a_0 + a_1*x + a_2*x "
      ]
     },
     "metadata": {},
     "output_type": "display_data"
    }
   ],
   "source": [
    "n = 3\n",
    "y = A[1:n]' * x .^ (0:n-1)"
   ]
  },
  {
   "cell_type": "code",
   "execution_count": 7,
   "metadata": {},
   "outputs": [
    {
     "data": {
      "text/latex": [
       "$\\left[\\begin{smallmatrix}a_{0} + a_{1} x_{1} + a_{2} x_{1}^{2} - y_{1}\\\\a_{0} + a_{1} x_{2} + a_{2} x_{2}^{2} - y_{2}\\\\a_{0} + a_{1} x_{3} + a_{2} x_{3}^{2} - y_{3}\\end{smallmatrix}\\right]$"
      ],
      "text/plain": [
       "3-element Vector{Sym{PyCall.PyObject}}:\n",
       " a_0 + a_1*x1 + a_2*x1^2 - y1\n",
       " a_0 + a_1*x2 + a_2*x2^2 - y2\n",
       " a_0 + a_1*x3 + a_2*x3^2 - y3"
      ]
     },
     "metadata": {},
     "output_type": "display_data"
    }
   ],
   "source": [
    "eqset = -Y[1:n] + [y(x => xi) for xi in X[1:n]]"
   ]
  },
  {
   "cell_type": "code",
   "execution_count": 8,
   "metadata": {},
   "outputs": [
    {
     "data": {
      "text/latex": [
       "\\begin{equation*}\\begin{cases}a_{2} & \\text{=>} &\\frac{- x_{1} y_{2} + x_{1} y_{3} + x_{2} y_{1} - x_{2} y_{3} - x_{3} y_{1} + x_{3} y_{2}}{x_{1}^{2} x_{2} - x_{1}^{2} x_{3} - x_{1} x_{2}^{2} + x_{1} x_{3}^{2} + x_{2}^{2} x_{3} - x_{2} x_{3}^{2}}\\\\a_{0} & \\text{=>} &\\frac{x_{1}^{2} x_{2} y_{3} - x_{1}^{2} x_{3} y_{2} - x_{1} x_{2}^{2} y_{3} + x_{1} x_{3}^{2} y_{2} + x_{2}^{2} x_{3} y_{1} - x_{2} x_{3}^{2} y_{1}}{x_{1}^{2} x_{2} - x_{1}^{2} x_{3} - x_{1} x_{2}^{2} + x_{1} x_{3}^{2} + x_{2}^{2} x_{3} - x_{2} x_{3}^{2}}\\\\a_{1} & \\text{=>} &\\frac{x_{1}^{2} y_{2} - x_{1}^{2} y_{3} - x_{2}^{2} y_{1} + x_{2}^{2} y_{3} + x_{3}^{2} y_{1} - x_{3}^{2} y_{2}}{x_{1}^{2} x_{2} - x_{1}^{2} x_{3} - x_{1} x_{2}^{2} + x_{1} x_{3}^{2} + x_{2}^{2} x_{3} - x_{2} x_{3}^{2}}\\\\\\end{cases}\\end{equation*}"
      ],
      "text/plain": [
       "Dict{Sym{PyCall.PyObject}, Sym{PyCall.PyObject}} with 3 entries:\n",
       "  a_2 => (-x1*y2 + x1*y3 + x2*y1 - x2*y3 - x3*y1 + x3*y2)/(x1^2*x2 - x1^2*x3 - …\n",
       "  a_0 => (x1^2*x2*y3 - x1^2*x3*y2 - x1*x2^2*y3 + x1*x3^2*y2 + x2^2*x3*y1 - x2*x…\n",
       "  a_1 => (x1^2*y2 - x1^2*y3 - x2^2*y1 + x2^2*y3 + x3^2*y1 - x3^2*y2)/(x1^2*x2 -…"
      ]
     },
     "metadata": {},
     "output_type": "display_data"
    }
   ],
   "source": [
    "sol = solve(eqset, A[1:n])"
   ]
  },
  {
   "cell_type": "code",
   "execution_count": 9,
   "metadata": {},
   "outputs": [
    {
     "data": {
      "text/latex": [
       "$\\left[\\begin{smallmatrix}1 & x_{1} & x_{1}^{2}\\\\1 & x_{2} & x_{2}^{2}\\\\1 & x_{3} & x_{3}^{2}\\end{smallmatrix}\\right]$"
      ],
      "text/plain": [
       "3×3 Matrix{Sym{PyCall.PyObject}}:\n",
       " 1  x1  x1^2\n",
       " 1  x2  x2^2\n",
       " 1  x3  x3^2"
      ]
     },
     "metadata": {},
     "output_type": "display_data"
    }
   ],
   "source": [
    "H = [xi^(i - 1) for xi in X[1:n], i in 1:n]"
   ]
  },
  {
   "cell_type": "code",
   "execution_count": 10,
   "metadata": {},
   "outputs": [
    {
     "data": {
      "text/latex": [
       "$\\left[\\begin{smallmatrix}\\frac{x_{1}^{2} x_{2} y_{3} - x_{1}^{2} x_{3} y_{2} - x_{1} x_{2}^{2} y_{3} + x_{1} x_{3}^{2} y_{2} + x_{2}^{2} x_{3} y_{1} - x_{2} x_{3}^{2} y_{1}}{x_{1}^{2} x_{2} - x_{1}^{2} x_{3} - x_{1} x_{2}^{2} + x_{1} x_{3}^{2} + x_{2}^{2} x_{3} - x_{2} x_{3}^{2}}\\\\\\frac{x_{1}^{2} y_{2} - x_{1}^{2} y_{3} - x_{2}^{2} y_{1} + x_{2}^{2} y_{3} + x_{3}^{2} y_{1} - x_{3}^{2} y_{2}}{x_{1}^{2} x_{2} - x_{1}^{2} x_{3} - x_{1} x_{2}^{2} + x_{1} x_{3}^{2} + x_{2}^{2} x_{3} - x_{2} x_{3}^{2}}\\\\\\frac{- x_{1} y_{2} + x_{1} y_{3} + x_{2} y_{1} - x_{2} y_{3} - x_{3} y_{1} + x_{3} y_{2}}{x_{1}^{2} x_{2} - x_{1}^{2} x_{3} - x_{1} x_{2}^{2} + x_{1} x_{3}^{2} + x_{2}^{2} x_{3} - x_{2} x_{3}^{2}}\\end{smallmatrix}\\right]$"
      ],
      "text/plain": [
       "3-element Vector{Sym{PyCall.PyObject}}:\n",
       " (x1^2*x2*y3 - x1^2*x3*y2 - x1*x2^2*y3 + x1*x3^2*y2 + x2^2*x3*y1 - x2*x3^2*y1)/(x1^2*x2 - x1^2*x3 - x1*x2^2 + x1*x3^2 + x2^2*x3 - x2*x3^2)\n",
       "                   (x1^2*y2 - x1^2*y3 - x2^2*y1 + x2^2*y3 + x3^2*y1 - x3^2*y2)/(x1^2*x2 - x1^2*x3 - x1*x2^2 + x1*x3^2 + x2^2*x3 - x2*x3^2)\n",
       "                              (-x1*y2 + x1*y3 + x2*y1 - x2*y3 - x3*y1 + x3*y2)/(x1^2*x2 - x1^2*x3 - x1*x2^2 + x1*x3^2 + x2^2*x3 - x2*x3^2)"
      ]
     },
     "metadata": {},
     "output_type": "display_data"
    }
   ],
   "source": [
    "solA = H\\Y[1:n]\n",
    "simplify.(solA)"
   ]
  },
  {
   "cell_type": "markdown",
   "metadata": {},
   "source": [
    "## Lagrange's interpolating polynomial"
   ]
  },
  {
   "cell_type": "code",
   "execution_count": 4,
   "metadata": {},
   "outputs": [],
   "source": [
    "function l(x, X, j)\n",
    "    n = length(X)\n",
    "    out = 1\n",
    "    for m = 1:n\n",
    "        if m != j\n",
    "            out *= (x - X[m])/( X[j] - X[m] )\n",
    "        end \n",
    "    end\n",
    "    return out\n",
    "end;"
   ]
  },
  {
   "cell_type": "code",
   "execution_count": 9,
   "metadata": {},
   "outputs": [
    {
     "data": {
      "text/latex": [
       "$\\frac{x y_{1} - x y_{2} + x_{1} y_{2} - x_{2} y_{1}}{x_{1} - x_{2}}$"
      ],
      "text/plain": [
       "x*y1 - x*y2 + x1*y2 - x2*y1\n",
       "---------------------------\n",
       "          x1 - x2          "
      ]
     },
     "metadata": {},
     "output_type": "display_data"
    }
   ],
   "source": [
    "yy = l(x, X[1:2],1)*y1 + l(x, X[1:2],2)*y2 |> expand |> simplify"
   ]
  },
  {
   "cell_type": "code",
   "execution_count": 10,
   "metadata": {},
   "outputs": [
    {
     "data": {
      "text/latex": [
       "$\\frac{x_{1} y_{2} - x_{2} y_{1}}{x_{1} - x_{2}}$"
      ],
      "text/plain": [
       "x1*y2 - x2*y1\n",
       "-------------\n",
       "   x1 - x2   "
      ]
     },
     "metadata": {},
     "output_type": "display_data"
    }
   ],
   "source": [
    "yy(x=>0)"
   ]
  },
  {
   "cell_type": "code",
   "execution_count": 11,
   "metadata": {},
   "outputs": [
    {
     "data": {
      "text/latex": [
       "$\\frac{y_{1} - y_{2}}{x_{1} - x_{2}}$"
      ],
      "text/plain": [
       "y1 - y2\n",
       "-------\n",
       "x1 - x2"
      ]
     },
     "metadata": {},
     "output_type": "display_data"
    }
   ],
   "source": [
    "diff(yy,x)"
   ]
  },
  {
   "cell_type": "code",
   "execution_count": null,
   "metadata": {},
   "outputs": [],
   "source": []
  },
  {
   "cell_type": "code",
   "execution_count": null,
   "metadata": {},
   "outputs": [
    {
     "data": {
      "text/latex": [
       "$\\frac{y_{1} \\left(x - x_{2}\\right) \\left(x - x_{3}\\right)}{\\left(x_{1} - x_{2}\\right) \\left(x_{1} - x_{3}\\right)} + \\frac{y_{2} \\left(x - x_{1}\\right) \\left(x - x_{3}\\right)}{\\left(- x_{1} + x_{2}\\right) \\left(x_{2} - x_{3}\\right)} + \\frac{y_{3} \\left(x - x_{1}\\right) \\left(x - x_{2}\\right)}{\\left(- x_{1} + x_{3}\\right) \\left(- x_{2} + x_{3}\\right)}$"
      ],
      "text/plain": [
       "y1*(x - x2)*(x - x3)   y2*(x - x1)*(x - x3)    y3*(x - x1)*(x - x2)\n",
       "-------------------- + -------------------- + ---------------------\n",
       "(x1 - x2)*(x1 - x3)    (-x1 + x2)*(x2 - x3)   (-x1 + x3)*(-x2 + x3)"
      ]
     },
     "metadata": {},
     "output_type": "display_data"
    }
   ],
   "source": [
    "n = 3\n",
    "sum( [ Y[j]*l(x,X[1:n],j) for j in 1:n ] )"
   ]
  },
  {
   "cell_type": "code",
   "execution_count": 13,
   "metadata": {},
   "outputs": [],
   "source": []
  }
 ],
 "metadata": {
  "kernelspec": {
   "display_name": "Julia 1.11.2",
   "language": "julia",
   "name": "julia-1.11"
  },
  "language_info": {
   "file_extension": ".jl",
   "mimetype": "application/julia",
   "name": "julia",
   "version": "1.11.2"
  }
 },
 "nbformat": 4,
 "nbformat_minor": 2
}
