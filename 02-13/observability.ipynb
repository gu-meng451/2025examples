{
 "cells": [
  {
   "cell_type": "code",
   "execution_count": null,
   "metadata": {},
   "outputs": [
    {
     "name": "stderr",
     "output_type": "stream",
     "text": [
      "\u001b[32m\u001b[1m  Activating\u001b[22m\u001b[39m project at `c:\\Users\\tim\\Documents\\2025examples\\02-13`\n"
     ]
    }
   ],
   "source": [
    "using Pkg\n",
    "Pkg.activate(\".\")\n",
    "# Pkg.instantiate()\n",
    "using SymPy\n",
    "using LinearAlgebra"
   ]
  },
  {
   "cell_type": "code",
   "execution_count": 11,
   "metadata": {},
   "outputs": [],
   "source": [
    "m1,m2,k1,k2,k3 = symbols(\"m_1, m_2, k_1, k_2, k_3\", real=true, positive=true)\n",
    "c1,c2,c3,c4 = symbols(\"c_1, c_2, c_3, c_4\", real=true);"
   ]
  },
  {
   "cell_type": "code",
   "execution_count": null,
   "metadata": {},
   "outputs": [
    {
     "data": {
      "text/latex": [
       "$\\left[\\begin{smallmatrix}0 & 0 & 1 & 0\\\\0 & 0 & 0 & 1\\\\\\frac{- k_{1} - k_{2}}{m_{1}} & \\frac{k_{2}}{m_{1}} & 0 & 0\\\\\\frac{k_{2}}{m_{2}} & \\frac{- k_{2} - k_{3}}{m_{2}} & 0 & 0\\end{smallmatrix}\\right]$"
      ],
      "text/plain": [
       "4×4 Matrix{Sym{PyCall.PyObject}}:\n",
       "              0.0               0.0    1    0\n",
       "              0.0               0.0    0    1\n",
       " (-k_1 - k_2)/m_1           k_2/m_1  0.0  0.0\n",
       "          k_2/m_2  (-k_2 - k_3)/m_2  0.0  0.0"
      ]
     },
     "metadata": {},
     "output_type": "display_data"
    }
   ],
   "source": [
    "M = diagm([m1,m2]);\n",
    "K = [(k1+k2) -k2;\n",
    "      -k2  (k2+k3)];\n",
    "A = [ zeros(2,2) diagm([1,1]);\n",
    "    -M\\K zeros(2,2)]"
   ]
  },
  {
   "cell_type": "code",
   "execution_count": 10,
   "metadata": {},
   "outputs": [
    {
     "data": {
      "text/latex": [
       "$\\left[\\begin{smallmatrix}0\\\\0\\\\\\frac{1}{m_{1}}\\\\0\\end{smallmatrix}\\right]$"
      ],
      "text/plain": [
       "4-element Vector{Sym}:\n",
       "     0\n",
       "     0\n",
       " 1/m_1\n",
       "     0"
      ]
     },
     "metadata": {},
     "output_type": "display_data"
    }
   ],
   "source": [
    "B = [ 0; 0; M\\[1;0]]"
   ]
  },
  {
   "cell_type": "code",
   "execution_count": 12,
   "metadata": {},
   "outputs": [
    {
     "data": {
      "text/latex": [
       "$\\left[\\begin{smallmatrix}c_{1} & c_{2} & c_{3} & c_{4}\\end{smallmatrix}\\right]$"
      ],
      "text/plain": [
       "1×4 Matrix{Sym{PyCall.PyObject}}:\n",
       " c_1  c_2  c_3  c_4"
      ]
     },
     "metadata": {},
     "output_type": "display_data"
    }
   ],
   "source": [
    "C = [c1 c2 c3 c4]"
   ]
  },
  {
   "cell_type": "markdown",
   "metadata": {},
   "source": [
    "Let's build the Observability Matrix"
   ]
  },
  {
   "cell_type": "code",
   "execution_count": 16,
   "metadata": {},
   "outputs": [
    {
     "data": {
      "text/latex": [
       "$\\left[\\begin{smallmatrix}c_{1} & c_{2} & c_{3} & c_{4}\\\\\\frac{- c_{3} m_{2} \\left(k_{1} + k_{2}\\right) + c_{4} k_{2} m_{1}}{m_{1} m_{2}} & \\frac{c_{3} k_{2} m_{2} - c_{4} m_{1} \\left(k_{2} + k_{3}\\right)}{m_{1} m_{2}} & c_{1} & c_{2}\\\\\\frac{- c_{1} m_{2} \\left(k_{1} + k_{2}\\right) + c_{2} k_{2} m_{1}}{m_{1} m_{2}} & \\frac{c_{1} k_{2} m_{2} - c_{2} m_{1} \\left(k_{2} + k_{3}\\right)}{m_{1} m_{2}} & \\frac{- c_{3} m_{2} \\left(k_{1} + k_{2}\\right) + c_{4} k_{2} m_{1}}{m_{1} m_{2}} & \\frac{c_{3} k_{2} m_{2} - c_{4} m_{1} \\left(k_{2} + k_{3}\\right)}{m_{1} m_{2}}\\\\\\frac{c_{3} m_{2} \\left(k_{2}^{2} m_{1} + m_{2} \\left(k_{1} + k_{2}\\right)^{2}\\right) - c_{4} k_{2} m_{1} \\left(m_{1} \\left(k_{2} + k_{3}\\right) + m_{2} \\left(k_{1} + k_{2}\\right)\\right)}{m_{1}^{2} m_{2}^{2}} & \\frac{- c_{3} k_{2} m_{2} \\left(m_{1} \\left(k_{2} + k_{3}\\right) + m_{2} \\left(k_{1} + k_{2}\\right)\\right) + c_{4} m_{1} \\left(k_{2}^{2} m_{2} + m_{1} \\left(k_{2} + k_{3}\\right)^{2}\\right)}{m_{1}^{2} m_{2}^{2}} & \\frac{- c_{1} m_{2} \\left(k_{1} + k_{2}\\right) + c_{2} k_{2} m_{1}}{m_{1} m_{2}} & \\frac{c_{1} k_{2} m_{2} - c_{2} m_{1} \\left(k_{2} + k_{3}\\right)}{m_{1} m_{2}}\\end{smallmatrix}\\right]$"
      ],
      "text/plain": [
       "4×4 Matrix{Sym{PyCall.PyObject}}:\n",
       "                                                                                                       c_1  …                                            c_4\n",
       "                                                            (-c_3*m_2*(k_1 + k_2) + c_4*k_2*m_1)/(m_1*m_2)                                               c_2\n",
       "                                                            (-c_1*m_2*(k_1 + k_2) + c_2*k_2*m_1)/(m_1*m_2)     (c_3*k_2*m_2 - c_4*m_1*(k_2 + k_3))/(m_1*m_2)\n",
       " (c_3*m_2*(k_2^2*m_1 + m_2*(k_1 + k_2)^2) - c_4*k_2*m_1*(m_1*(k_2 + k_3) + m_2*(k_1 + k_2)))/(m_1^2*m_2^2)     (c_1*k_2*m_2 - c_2*m_1*(k_2 + k_3))/(m_1*m_2)"
      ]
     },
     "metadata": {},
     "output_type": "display_data"
    }
   ],
   "source": [
    "Omx = [C; C*A; C*A^2; C*A^3]\n",
    "Omx = [simplify(y) for y in Omx]"
   ]
  },
  {
   "cell_type": "markdown",
   "metadata": {},
   "source": [
    "Let's compute when this matrix would be singular, and also let's assume that we aren't going to measure any velocities ($c_3 \\to 0$, $c_4 \\to 0$)"
   ]
  },
  {
   "cell_type": "code",
   "execution_count": 22,
   "metadata": {},
   "outputs": [
    {
     "data": {
      "text/latex": [
       "$- \\frac{c_{1}^{4} k_{2}^{2}}{m_{1}^{2}} - \\frac{2 c_{1}^{3} c_{2} k_{1} k_{2}}{m_{1}^{2}} + \\frac{2 c_{1}^{3} c_{2} k_{2}^{2}}{m_{1} m_{2}} - \\frac{2 c_{1}^{3} c_{2} k_{2}^{2}}{m_{1}^{2}} + \\frac{2 c_{1}^{3} c_{2} k_{2} k_{3}}{m_{1} m_{2}} - \\frac{c_{1}^{2} c_{2}^{2} k_{1}^{2}}{m_{1}^{2}} + \\frac{2 c_{1}^{2} c_{2}^{2} k_{1} k_{2}}{m_{1} m_{2}} - \\frac{2 c_{1}^{2} c_{2}^{2} k_{1} k_{2}}{m_{1}^{2}} + \\frac{2 c_{1}^{2} c_{2}^{2} k_{1} k_{3}}{m_{1} m_{2}} - \\frac{c_{1}^{2} c_{2}^{2} k_{2}^{2}}{m_{2}^{2}} + \\frac{4 c_{1}^{2} c_{2}^{2} k_{2}^{2}}{m_{1} m_{2}} - \\frac{c_{1}^{2} c_{2}^{2} k_{2}^{2}}{m_{1}^{2}} - \\frac{2 c_{1}^{2} c_{2}^{2} k_{2} k_{3}}{m_{2}^{2}} + \\frac{2 c_{1}^{2} c_{2}^{2} k_{2} k_{3}}{m_{1} m_{2}} - \\frac{c_{1}^{2} c_{2}^{2} k_{3}^{2}}{m_{2}^{2}} + \\frac{2 c_{1} c_{2}^{3} k_{1} k_{2}}{m_{1} m_{2}} - \\frac{2 c_{1} c_{2}^{3} k_{2}^{2}}{m_{2}^{2}} + \\frac{2 c_{1} c_{2}^{3} k_{2}^{2}}{m_{1} m_{2}} - \\frac{2 c_{1} c_{2}^{3} k_{2} k_{3}}{m_{2}^{2}} - \\frac{c_{2}^{4} k_{2}^{2}}{m_{2}^{2}}$"
      ],
      "text/plain": [
       "     4    2        3                    3        2        3        2        3 \n",
       "  c_1 *k_2    2*c_1 *c_2*k_1*k_2   2*c_1 *c_2*k_2    2*c_1 *c_2*k_2    2*c_1 *\n",
       "- --------- - ------------------ + --------------- - --------------- + -------\n",
       "        2               2              m_1*m_2                2             m_\n",
       "     m_1             m_1                                   m_1                \n",
       "\n",
       "                 2    2    2        2    2                2    2              \n",
       "c_2*k_2*k_3   c_1 *c_2 *k_1    2*c_1 *c_2 *k_1*k_2   2*c_1 *c_2 *k_1*k_2   2*c\n",
       "----------- - -------------- + ------------------- - ------------------- + ---\n",
       "1*m_2                 2              m_1*m_2                    2             \n",
       "                   m_1                                       m_1              \n",
       "\n",
       "  2    2              2    2    2        2    2    2      2    2    2        2\n",
       "_1 *c_2 *k_1*k_3   c_1 *c_2 *k_2    4*c_1 *c_2 *k_2    c_1 *c_2 *k_2    2*c_1 \n",
       "---------------- - -------------- + ---------------- - -------------- - ------\n",
       "   m_1*m_2                 2            m_1*m_2                2              \n",
       "                        m_2                                 m_1               \n",
       "\n",
       "    2                2    2              2    2    2            3             \n",
       "*c_2 *k_2*k_3   2*c_1 *c_2 *k_2*k_3   c_1 *c_2 *k_3    2*c_1*c_2 *k_1*k_2   2*\n",
       "------------- + ------------------- - -------------- + ------------------ - --\n",
       "     2                m_1*m_2                 2             m_1*m_2           \n",
       "  m_2                                      m_2                                \n",
       "\n",
       "       3    2            3    2            3              4    2\n",
       "c_1*c_2 *k_2    2*c_1*c_2 *k_2    2*c_1*c_2 *k_2*k_3   c_2 *k_2 \n",
       "------------- + --------------- - ------------------ - ---------\n",
       "       2            m_1*m_2                 2                2  \n",
       "    m_2                                  m_2              m_2   "
      ]
     },
     "metadata": {},
     "output_type": "display_data"
    }
   ],
   "source": [
    "char1 = det(Omx) |> subs(c3=>0, c4=>0) |> simplify"
   ]
  },
  {
   "cell_type": "markdown",
   "metadata": {},
   "source": [
    "Now let's solve for $c_1$ in terms of $c_2$ and the parameters of the system"
   ]
  },
  {
   "cell_type": "code",
   "execution_count": 24,
   "metadata": {},
   "outputs": [
    {
     "data": {
      "text/latex": [
       "$\\left[\\begin{smallmatrix}\\frac{c_{2} \\left(- k_{1} m_{2} + k_{2} m_{1} - k_{2} m_{2} + k_{3} m_{1} - \\sqrt{k_{1}^{2} m_{2}^{2} - 2 k_{1} k_{2} m_{1} m_{2} + 2 k_{1} k_{2} m_{2}^{2} - 2 k_{1} k_{3} m_{1} m_{2} + k_{2}^{2} m_{1}^{2} + 2 k_{2}^{2} m_{1} m_{2} + k_{2}^{2} m_{2}^{2} + 2 k_{2} k_{3} m_{1}^{2} - 2 k_{2} k_{3} m_{1} m_{2} + k_{3}^{2} m_{1}^{2}}\\right)}{2 k_{2} m_{2}}\\\\\\frac{c_{2} \\left(- k_{1} m_{2} + k_{2} m_{1} - k_{2} m_{2} + k_{3} m_{1} + \\sqrt{k_{1}^{2} m_{2}^{2} - 2 k_{1} k_{2} m_{1} m_{2} + 2 k_{1} k_{2} m_{2}^{2} - 2 k_{1} k_{3} m_{1} m_{2} + k_{2}^{2} m_{1}^{2} + 2 k_{2}^{2} m_{1} m_{2} + k_{2}^{2} m_{2}^{2} + 2 k_{2} k_{3} m_{1}^{2} - 2 k_{2} k_{3} m_{1} m_{2} + k_{3}^{2} m_{1}^{2}}\\right)}{2 k_{2} m_{2}}\\end{smallmatrix}\\right]$"
      ],
      "text/plain": [
       "2-element Vector{Sym{PyCall.PyObject}}:\n",
       " c_2*(-k_1*m_2 + k_2*m_1 - k_2*m_2 + k_3*m_1 - sqrt(k_1^2*m_2^2 - 2*k_1*k_2*m_1*m_2 + 2*k_1*k_2*m_2^2 - 2*k_1*k_3*m_1*m_2 + k_2^2*m_1^2 + 2*k_2^2*m_1*m_2 + k_2^2*m_2^2 + 2*k_2*k_3*m_1^2 - 2*k_2*k_3*m_1*m_2 + k_3^2*m_1^2))/(2*k_2*m_2)\n",
       " c_2*(-k_1*m_2 + k_2*m_1 - k_2*m_2 + k_3*m_1 + sqrt(k_1^2*m_2^2 - 2*k_1*k_2*m_1*m_2 + 2*k_1*k_2*m_2^2 - 2*k_1*k_3*m_1*m_2 + k_2^2*m_1^2 + 2*k_2^2*m_1*m_2 + k_2^2*m_2^2 + 2*k_2*k_3*m_1^2 - 2*k_2*k_3*m_1*m_2 + k_3^2*m_1^2))/(2*k_2*m_2)"
      ]
     },
     "metadata": {},
     "output_type": "display_data"
    }
   ],
   "source": [
    "sol1 = solve(char1, c1)"
   ]
  },
  {
   "cell_type": "markdown",
   "metadata": {},
   "source": [
    "Lastly, we can simplify this further using the values we know from the example"
   ]
  },
  {
   "cell_type": "code",
   "execution_count": 31,
   "metadata": {},
   "outputs": [
    {
     "data": {
      "text/latex": [
       "$\\left[\\begin{smallmatrix}- c_{2}\\\\c_{2}\\end{smallmatrix}\\right]$"
      ],
      "text/plain": [
       "2-element Vector{Sym{PyCall.PyObject}}:\n",
       " -c_2\n",
       "  c_2"
      ]
     },
     "metadata": {},
     "output_type": "display_data"
    }
   ],
   "source": [
    "[ x(k1=>1, k2=>2, k3=>1, m1=>1, m2=>1) for x in sol1 ]"
   ]
  },
  {
   "cell_type": "code",
   "execution_count": null,
   "metadata": {},
   "outputs": [],
   "source": []
  }
 ],
 "metadata": {
  "kernelspec": {
   "display_name": "Julia 1.11.2",
   "language": "julia",
   "name": "julia-1.11"
  },
  "language_info": {
   "file_extension": ".jl",
   "mimetype": "application/julia",
   "name": "julia",
   "version": "1.11.2"
  }
 },
 "nbformat": 4,
 "nbformat_minor": 2
}
