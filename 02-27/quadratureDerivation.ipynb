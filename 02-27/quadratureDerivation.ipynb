{
 "cells": [
  {
   "cell_type": "markdown",
   "metadata": {},
   "source": [
    "# Derivation"
   ]
  },
  {
   "cell_type": "code",
   "execution_count": 1,
   "metadata": {},
   "outputs": [
    {
     "name": "stderr",
     "output_type": "stream",
     "text": [
      "\u001b[32m\u001b[1m  Activating\u001b[22m\u001b[39m project at `c:\\Users\\tim\\Documents\\2025examples\\02-27`\n"
     ]
    }
   ],
   "source": [
    "using Pkg\n",
    "Pkg.activate(\".\")\n",
    "using SymPy"
   ]
  },
  {
   "cell_type": "code",
   "execution_count": 2,
   "metadata": {},
   "outputs": [],
   "source": [
    "t, t1, t2, t3, t4 = symbols(\"t, t_1, t_2, t_3, t_4\", real=true)\n",
    "x, x1, x2, x3, x4 = symbols(\"x, x_1, x_2, x_3, x_4\", real=true)\n",
    "h = symbols(\"h\", real=true, positive=true)\n",
    "function l(t, T, j)\n",
    "    n = length(T)\n",
    "    out = 1\n",
    "    for m = 1:n\n",
    "        if m != j\n",
    "            out *= (t - T[m]) / (T[j] - T[m])\n",
    "        end\n",
    "    end\n",
    "    return out\n",
    "end\n",
    "Lag(T,X,t) = sum(X[j] * l(t, T, j) for j in 1:length(X));"
   ]
  },
  {
   "cell_type": "markdown",
   "metadata": {},
   "source": [
    "## Trap rule"
   ]
  },
  {
   "cell_type": "code",
   "execution_count": 3,
   "metadata": {},
   "outputs": [
    {
     "data": {
      "text/latex": [
       "$- \\frac{t_{1} x_{1}}{2} - \\frac{t_{1} x_{2}}{2} + \\frac{t_{2} x_{1}}{2} + \\frac{t_{2} x_{2}}{2}$"
      ],
      "text/plain": [
       "  t_1*x_1   t_1*x_2   t_2*x_1   t_2*x_2\n",
       "- ------- - ------- + ------- + -------\n",
       "     2         2         2         2   "
      ]
     },
     "metadata": {},
     "output_type": "display_data"
    }
   ],
   "source": [
    "T = [t1,t2]\n",
    "X = [x1,x2]\n",
    "I_trap = integrate( Lag(T,X,t), (t,t1,t2)) |> simplify"
   ]
  },
  {
   "cell_type": "code",
   "execution_count": 4,
   "metadata": {},
   "outputs": [
    {
     "data": {
      "text/latex": [
       "$\\frac{h \\left(x_{1} + x_{2}\\right)}{2}$"
      ],
      "text/plain": [
       "h*(x_1 + x_2)\n",
       "-------------\n",
       "      2      "
      ]
     },
     "metadata": {},
     "output_type": "display_data"
    }
   ],
   "source": [
    "I_trap(t2=>t1+h) |> simplify"
   ]
  },
  {
   "cell_type": "markdown",
   "metadata": {},
   "source": [
    "## Simpson's Rule"
   ]
  },
  {
   "cell_type": "code",
   "execution_count": 5,
   "metadata": {},
   "outputs": [
    {
     "data": {
      "text/latex": [
       "$\\frac{- t_{1}^{3} x_{2} + t_{1}^{3} x_{3} - 2 t_{1}^{2} t_{2} x_{1} - 4 t_{1}^{2} t_{2} x_{3} + 2 t_{1}^{2} t_{3} x_{1} + 3 t_{1}^{2} t_{3} x_{2} + t_{1}^{2} t_{3} x_{3} + 3 t_{1} t_{2}^{2} x_{1} + 3 t_{1} t_{2}^{2} x_{3} - 2 t_{1} t_{2} t_{3} x_{1} + 2 t_{1} t_{2} t_{3} x_{3} - t_{1} t_{3}^{2} x_{1} - 3 t_{1} t_{3}^{2} x_{2} - 2 t_{1} t_{3}^{2} x_{3} - 3 t_{2}^{2} t_{3} x_{1} - 3 t_{2}^{2} t_{3} x_{3} + 4 t_{2} t_{3}^{2} x_{1} + 2 t_{2} t_{3}^{2} x_{3} - t_{3}^{3} x_{1} + t_{3}^{3} x_{2}}{6 \\left(t_{1} t_{2} - t_{1} t_{3} - t_{2}^{2} + t_{2} t_{3}\\right)}$"
      ],
      "text/plain": [
       "     3          3            2                2                2              \n",
       "- t_1 *x_2 + t_1 *x_3 - 2*t_1 *t_2*x_1 - 4*t_1 *t_2*x_3 + 2*t_1 *t_3*x_1 + 3*t\n",
       "------------------------------------------------------------------------------\n",
       "                                                                              \n",
       "                                                                              \n",
       "\n",
       "  2              2                    2                2                      \n",
       "_1 *t_3*x_2 + t_1 *t_3*x_3 + 3*t_1*t_2 *x_1 + 3*t_1*t_2 *x_3 - 2*t_1*t_2*t_3*x\n",
       "------------------------------------------------------------------------------\n",
       "                                                                /             \n",
       "                                                              6*\\t_1*t_2 - t_1\n",
       "\n",
       "                                2                2                2           \n",
       "_1 + 2*t_1*t_2*t_3*x_3 - t_1*t_3 *x_1 - 3*t_1*t_3 *x_2 - 2*t_1*t_3 *x_3 - 3*t_\n",
       "------------------------------------------------------------------------------\n",
       "          2          \\                                                        \n",
       "*t_3 - t_2  + t_2*t_3/                                                        \n",
       "\n",
       " 2                2                    2                2          3          \n",
       "2 *t_3*x_1 - 3*t_2 *t_3*x_3 + 4*t_2*t_3 *x_1 + 2*t_2*t_3 *x_3 - t_3 *x_1 + t_3\n",
       "------------------------------------------------------------------------------\n",
       "                                                                              \n",
       "                                                                              \n",
       "\n",
       "3    \n",
       " *x_2\n",
       "-----\n",
       "     \n",
       "     "
      ]
     },
     "metadata": {},
     "output_type": "display_data"
    }
   ],
   "source": [
    "T = [t1, t2, t3]\n",
    "X = [x1, x2, x3]\n",
    "I_3 = integrate(Lag(T, X, t), (t, t1, t3)) |> simplify"
   ]
  },
  {
   "cell_type": "code",
   "execution_count": 6,
   "metadata": {},
   "outputs": [
    {
     "data": {
      "text/latex": [
       "$\\frac{h \\left(x_{1} + 4 x_{2} + x_{3}\\right)}{3}$"
      ],
      "text/plain": [
       "h*(x_1 + 4*x_2 + x_3)\n",
       "---------------------\n",
       "          3          "
      ]
     },
     "metadata": {},
     "output_type": "display_data"
    }
   ],
   "source": [
    "I_3(t2=>t1+h, t3=>t1+2h) |> simplify"
   ]
  },
  {
   "cell_type": "markdown",
   "metadata": {},
   "source": [
    "## Gauss-Legendre Quadrature"
   ]
  },
  {
   "cell_type": "code",
   "execution_count": 7,
   "metadata": {},
   "outputs": [],
   "source": [
    "w1, w2, w3, w4 = symbols(\"w1, w2, w3, w4\", real=true)\n",
    "a0, a1, a2, a3, a4, a5 = symbols(\"a0, a1, a2, a3, a4, a5\", real=true);"
   ]
  },
  {
   "cell_type": "markdown",
   "metadata": {},
   "source": [
    "### n = 2"
   ]
  },
  {
   "cell_type": "code",
   "execution_count": 8,
   "metadata": {},
   "outputs": [
    {
     "data": {
      "text/latex": [
       "$2 a_{0} + \\frac{2 a_{2}}{3}$"
      ],
      "text/plain": [
       "       2*a2\n",
       "2*a0 + ----\n",
       "        3  "
      ]
     },
     "metadata": {},
     "output_type": "display_data"
    }
   ],
   "source": [
    "f = a0 + a1*t + a2*t^2 + a3*t^3\n",
    "Intf = integrate(f,(t, -1, 1))"
   ]
  },
  {
   "cell_type": "code",
   "execution_count": 9,
   "metadata": {},
   "outputs": [
    {
     "data": {
      "text/latex": [
       "$w_{1} \\left(a_{0} + a_{1} t_{1} + a_{2} t_{1}^{2} + a_{3} t_{1}^{3}\\right) + w_{2} \\left(a_{0} + a_{1} t_{2} + a_{2} t_{2}^{2} + a_{3} t_{2}^{3}\\right)$"
      ],
      "text/plain": [
       "   /                    2         3\\      /                    2         3\\\n",
       "w1*\\a0 + a1*t_1 + a2*t_1  + a3*t_1 / + w2*\\a0 + a1*t_2 + a2*t_2  + a3*t_2 /"
      ]
     },
     "metadata": {},
     "output_type": "display_data"
    }
   ],
   "source": [
    "GL2 = w1*f(t=>t1) + w2*f(t=>t2)"
   ]
  },
  {
   "cell_type": "code",
   "execution_count": 10,
   "metadata": {},
   "outputs": [
    {
     "data": {
      "text/latex": [
       "$2 a_{0} + \\frac{2 a_{2}}{3} - w_{1} \\left(a_{0} + a_{1} t_{1} + a_{2} t_{1}^{2} + a_{3} t_{1}^{3}\\right) - w_{2} \\left(a_{0} + a_{1} t_{2} + a_{2} t_{2}^{2} + a_{3} t_{2}^{3}\\right)$"
      ],
      "text/plain": [
       "       2*a2      /                    2         3\\      /                    2\n",
       "2*a0 + ---- - w1*\\a0 + a1*t_1 + a2*t_1  + a3*t_1 / - w2*\\a0 + a1*t_2 + a2*t_2 \n",
       "        3                                                                     \n",
       "\n",
       "         3\\\n",
       " + a3*t_2 /\n",
       "           "
      ]
     },
     "metadata": {},
     "output_type": "display_data"
    }
   ],
   "source": [
    "eq = Intf - GL2"
   ]
  },
  {
   "cell_type": "code",
   "execution_count": 11,
   "metadata": {},
   "outputs": [
    {
     "data": {
      "text/latex": [
       "$\\left[\\begin{smallmatrix}- w_{1} - w_{2} + 2\\\\- t_{1} w_{1} - t_{2} w_{2}\\\\- t_{1}^{2} w_{1} - t_{2}^{2} w_{2} + \\frac{2}{3}\\\\- t_{1}^{3} w_{1} - t_{2}^{3} w_{2}\\end{smallmatrix}\\right]$"
      ],
      "text/plain": [
       "4-element Vector{Sym{PyCall.PyObject}}:\n",
       "               -w1 - w2 + 2\n",
       "           -t_1*w1 - t_2*w2\n",
       " -t_1^2*w1 - t_2^2*w2 + 2/3\n",
       "       -t_1^3*w1 - t_2^3*w2"
      ]
     },
     "metadata": {},
     "output_type": "display_data"
    }
   ],
   "source": [
    "eqset = [diff(eq,a) for a in [a0,a1,a2,a3]]"
   ]
  },
  {
   "cell_type": "code",
   "execution_count": 12,
   "metadata": {},
   "outputs": [
    {
     "data": {
      "text/latex": [
       "\\begin{equation*}\\begin{cases}t_{2} & \\text{=>} &\\frac{\\sqrt{3}}{3}\\\\t_{1} & \\text{=>} &- \\frac{\\sqrt{3}}{3}\\\\w_{2} & \\text{=>} &1\\\\w_{1} & \\text{=>} &1\\\\\\end{cases}\\end{equation*}"
      ],
      "text/plain": [
       "Dict{Sym{PyCall.PyObject}, Sym{PyCall.PyObject}} with 4 entries:\n",
       "  t_2 => sqrt(3)/3\n",
       "  t_1 => -sqrt(3)/3\n",
       "  w2  => 1\n",
       "  w1  => 1"
      ]
     },
     "metadata": {},
     "output_type": "display_data"
    }
   ],
   "source": [
    "sol = solve(eqset, [t1,t2,w1,w2], dict=true)[1]"
   ]
  },
  {
   "cell_type": "markdown",
   "metadata": {},
   "source": [
    "### n = 3"
   ]
  },
  {
   "cell_type": "code",
   "execution_count": 13,
   "metadata": {},
   "outputs": [
    {
     "data": {
      "text/latex": [
       "$2 a_{0} + \\frac{2 a_{2}}{3} + \\frac{2 a_{4}}{5}$"
      ],
      "text/plain": [
       "       2*a2   2*a4\n",
       "2*a0 + ---- + ----\n",
       "        3      5  "
      ]
     },
     "metadata": {},
     "output_type": "display_data"
    }
   ],
   "source": [
    "f = a0 + a1 * t + a2 * t^2 + a3 * t^3 + a4*t^4 + a5*t^5\n",
    "Intf = integrate(f, (t, -1, 1))"
   ]
  },
  {
   "cell_type": "code",
   "execution_count": 14,
   "metadata": {},
   "outputs": [
    {
     "data": {
      "text/latex": [
       "$w_{1} \\left(a_{0} + a_{1} t_{1} + a_{2} t_{1}^{2} + a_{3} t_{1}^{3} + a_{4} t_{1}^{4} + a_{5} t_{1}^{5}\\right) + w_{2} \\left(a_{0} + a_{1} t_{2} + a_{2} t_{2}^{2} + a_{3} t_{2}^{3} + a_{4} t_{2}^{4} + a_{5} t_{2}^{5}\\right) + w_{3} \\left(a_{0} + a_{1} t_{3} + a_{2} t_{3}^{2} + a_{3} t_{3}^{3} + a_{4} t_{3}^{4} + a_{5} t_{3}^{5}\\right)$"
      ],
      "text/plain": [
       "   /                    2         3         4         5\\      /               \n",
       "w1*\\a0 + a1*t_1 + a2*t_1  + a3*t_1  + a4*t_1  + a5*t_1 / + w2*\\a0 + a1*t_2 + a\n",
       "\n",
       "     2         3         4         5\\      /                    2         3   \n",
       "2*t_2  + a3*t_2  + a4*t_2  + a5*t_2 / + w3*\\a0 + a1*t_3 + a2*t_3  + a3*t_3  + \n",
       "\n",
       "      4         5\\\n",
       "a4*t_3  + a5*t_3 /"
      ]
     },
     "metadata": {},
     "output_type": "display_data"
    }
   ],
   "source": [
    "GL3 = w1 * f(t => t1) + w2 * f(t => t2) + w3 * f(t => t3)"
   ]
  },
  {
   "cell_type": "code",
   "execution_count": 15,
   "metadata": {},
   "outputs": [
    {
     "data": {
      "text/latex": [
       "$2 a_{0} + \\frac{2 a_{2}}{3} + \\frac{2 a_{4}}{5} - w_{1} \\left(a_{0} + a_{1} t_{1} + a_{2} t_{1}^{2} + a_{3} t_{1}^{3} + a_{4} t_{1}^{4} + a_{5} t_{1}^{5}\\right) - w_{2} \\left(a_{0} + a_{1} t_{2} + a_{2} t_{2}^{2} + a_{3} t_{2}^{3} + a_{4} t_{2}^{4} + a_{5} t_{2}^{5}\\right) - w_{3} \\left(a_{0} + a_{1} t_{3} + a_{2} t_{3}^{2} + a_{3} t_{3}^{3} + a_{4} t_{3}^{4} + a_{5} t_{3}^{5}\\right)$"
      ],
      "text/plain": [
       "       2*a2   2*a4      /                    2         3         4         5\\ \n",
       "2*a0 + ---- + ---- - w1*\\a0 + a1*t_1 + a2*t_1  + a3*t_1  + a4*t_1  + a5*t_1 / \n",
       "        3      5                                                              \n",
       "\n",
       "     /                    2         3         4         5\\      /             \n",
       "- w2*\\a0 + a1*t_2 + a2*t_2  + a3*t_2  + a4*t_2  + a5*t_2 / - w3*\\a0 + a1*t_3 +\n",
       "                                                                              \n",
       "\n",
       "       2         3         4         5\\\n",
       " a2*t_3  + a3*t_3  + a4*t_3  + a5*t_3 /\n",
       "                                       "
      ]
     },
     "metadata": {},
     "output_type": "display_data"
    }
   ],
   "source": [
    "eq = Intf - GL3"
   ]
  },
  {
   "cell_type": "code",
   "execution_count": 16,
   "metadata": {},
   "outputs": [
    {
     "data": {
      "text/latex": [
       "$\\left[\\begin{smallmatrix}- w_{1} - w_{2} - w_{3} + 2\\\\- t_{1} w_{1} - t_{2} w_{2} - t_{3} w_{3}\\\\- t_{1}^{2} w_{1} - t_{2}^{2} w_{2} - t_{3}^{2} w_{3} + \\frac{2}{3}\\\\- t_{1}^{3} w_{1} - t_{2}^{3} w_{2} - t_{3}^{3} w_{3}\\\\- t_{1}^{4} w_{1} - t_{2}^{4} w_{2} - t_{3}^{4} w_{3} + \\frac{2}{5}\\\\- t_{1}^{5} w_{1} - t_{2}^{5} w_{2} - t_{3}^{5} w_{3}\\end{smallmatrix}\\right]$"
      ],
      "text/plain": [
       "6-element Vector{Sym{PyCall.PyObject}}:\n",
       "                     -w1 - w2 - w3 + 2\n",
       "             -t_1*w1 - t_2*w2 - t_3*w3\n",
       " -t_1^2*w1 - t_2^2*w2 - t_3^2*w3 + 2/3\n",
       "       -t_1^3*w1 - t_2^3*w2 - t_3^3*w3\n",
       " -t_1^4*w1 - t_2^4*w2 - t_3^4*w3 + 2/5\n",
       "       -t_1^5*w1 - t_2^5*w2 - t_3^5*w3"
      ]
     },
     "metadata": {},
     "output_type": "display_data"
    }
   ],
   "source": [
    "eqset = [diff(eq, a) for a in [a0, a1, a2, a3, a4, a5]]"
   ]
  },
  {
   "cell_type": "code",
   "execution_count": 17,
   "metadata": {},
   "outputs": [
    {
     "data": {
      "text/latex": [
       "\\begin{equation*}\\begin{cases}t_{2} & \\text{=>} &- \\frac{\\sqrt{15}}{5}\\\\w_{3} & \\text{=>} &\\frac{5}{9}\\\\t_{3} & \\text{=>} &\\frac{\\sqrt{15}}{5}\\\\t_{1} & \\text{=>} &0\\\\w_{2} & \\text{=>} &\\frac{5}{9}\\\\w_{1} & \\text{=>} &\\frac{8}{9}\\\\\\end{cases}\\end{equation*}"
      ],
      "text/plain": [
       "Dict{Sym{PyCall.PyObject}, Sym{PyCall.PyObject}} with 6 entries:\n",
       "  t_2 => -sqrt(15)/5\n",
       "  w3  => 5/9\n",
       "  t_3 => sqrt(15)/5\n",
       "  t_1 => 0\n",
       "  w2  => 5/9\n",
       "  w1  => 8/9"
      ]
     },
     "metadata": {},
     "output_type": "display_data"
    }
   ],
   "source": [
    "sol = solve(eqset, [t1, t2, t3, w1, w2, w3], dict=true)[1]"
   ]
  },
  {
   "cell_type": "code",
   "execution_count": 18,
   "metadata": {},
   "outputs": [],
   "source": []
  }
 ],
 "metadata": {
  "kernelspec": {
   "display_name": "Julia 1.11.2",
   "language": "julia",
   "name": "julia-1.11"
  },
  "language_info": {
   "file_extension": ".jl",
   "mimetype": "application/julia",
   "name": "julia",
   "version": "1.11.2"
  }
 },
 "nbformat": 4,
 "nbformat_minor": 2
}
